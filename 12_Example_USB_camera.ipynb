{
 "cells": [
  {
   "cell_type": "code",
   "execution_count": null,
   "metadata": {},
   "outputs": [
    {
     "name": "stdout",
     "output_type": "stream",
     "text": [
      "The autoreload extension is already loaded. To reload it, use:\n  %reload_ext autoreload\n"
     ]
    }
   ],
   "source": [
    "%load_ext autoreload\n",
    "%autoreload 2"
   ]
  },
  {
   "cell_type": "markdown",
   "metadata": {},
   "source": [
    "# Example Use of USB_camera module\n",
    "> Example usage  see link  \n",
    "\n"
   ]
  },
  {
   "cell_type": "markdown",
   "metadata": {},
   "source": [
    "## Send and receive socket wih FLIR cam"
   ]
  },
  {
   "cell_type": "code",
   "execution_count": null,
   "metadata": {},
   "outputs": [],
   "source": [
    "\n",
    "from time import sleep\n",
    "from imutils.video import FPS\n",
    "import imutils\n",
    "import cv2\n",
    "from FLIRCam.USB_camera import *"
   ]
  },
  {
   "cell_type": "code",
   "execution_count": null,
   "metadata": {},
   "outputs": [
    {
     "name": "stderr",
     "output_type": "stream",
     "text": [
      "2020-01-07 17:25:18,052 FrontLeft-ERROR-MainThread-deinitialize-(442) Failed to unregister event handler\nTraceback (most recent call last):\n  File \"/home/john/github/FLIRCam/FLIRCam/USB_camera.py\", line 439, in deinitialize\n    self._ptgrey_camera.UnregisterEvent(self._ptgrey_event_handler)\nAttributeError: 'Camera' object has no attribute '_ptgrey_event_handler'\n",
      "2020-01-07 17:25:22,125 FrontLeft-INFO-MainThread-initialize-(426) Camera successfully initialised\n",
      "2020-01-07 17:25:22,127 FrontLeft-INFO-MainThread-__init__-(131) Camera instance created with name: FrontLeft.\n"
     ]
    }
   ],
   "source": [
    "try:\n",
    "    cam.deinitialize()\n",
    "except:\n",
    "    pass\n",
    "cam = Camera(model='ptgrey', identity='19312753', name='FrontLeft')\n",
    "\n",
    "\n"
   ]
  }
 ],
 "metadata": {
  "kernelspec": {
   "display_name": "Python 3",
   "language": "python",
   "name": "python3"
  }
 },
 "nbformat": 4,
 "nbformat_minor": 0
}
