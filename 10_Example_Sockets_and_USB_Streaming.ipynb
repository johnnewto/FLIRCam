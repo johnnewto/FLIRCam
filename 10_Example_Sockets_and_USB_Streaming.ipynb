{
 "cells": [
  {
   "cell_type": "code",
   "execution_count": null,
   "metadata": {},
   "outputs": [],
   "source": [
    "%load_ext autoreload\n",
    "%autoreload 2"
   ]
  },
  {
   "cell_type": "markdown",
   "metadata": {},
   "source": [
    "# Example Use of USB stream and Sockets\n",
    "> Example usage  see link  \n",
    "https://www.pythonforthelab.com/blog/using-pyzmq-for-inter-process-communication-part-1/\n"
   ]
  },
  {
   "cell_type": "markdown",
   "metadata": {},
   "source": [
    "## Send and receive socket wih FLIR cam"
   ]
  },
  {
   "cell_type": "code",
   "execution_count": null,
   "metadata": {},
   "outputs": [
    {
     "name": "stdout",
     "output_type": "stream",
     "text": [
      "Starting1\nLibrary version: 1.27.0.48\n",
      "Number of cameras detected: 2\n",
      "Camera acquisition mode set to continuous...\nCamera 0 started acquiring images...\n\nCamera acquisition mode set to continuous...\nCamera 1 started acquiring images...\n\n",
      "Finished\n"
     ]
    }
   ],
   "source": [
    "\n",
    "from time import sleep\n",
    "from imutils.video import FPS\n",
    "import imutils\n",
    "import cv2\n",
    "from FLIRCam.USB_video_stream import *\n",
    "\n",
    "import zmq\n",
    "\n",
    "print('Starting1')\n",
    "context = zmq.Context()\n",
    "pubsocket = context.socket(zmq.PUB)\n",
    "pubsocket.bind(\"tcp://*:5555\")\n",
    "\n",
    "subsocket = context.socket(zmq.SUB)\n",
    "subsocket.connect(\"tcp://localhost:5555\")\n",
    "subsocket.setsockopt(zmq.SUBSCRIBE, b'camera_frame')\n",
    "\n",
    "width = 1000\n",
    "height = 750\n",
    "\n",
    "fvs = USBVideoStream() # .start()\n",
    "fvs.start()\n",
    "\n",
    "sleep(0.5)\n",
    "\n",
    "topic = 'camera_frame'\n",
    "i=0\n",
    "while True:\n",
    "    try:\n",
    "        i += 1\n",
    "        while not fvs.more():\n",
    "            pass\n",
    "        snd_frame = fvs.read()        \n",
    "        snd_frame = imutils.resize(snd_frame['image'], width=width, height=height)   \n",
    "        \n",
    "        pubsocket.send_string(topic, zmq.SNDMORE)\n",
    "        pubsocket.send_pyobj(snd_frame)\n",
    "\n",
    "        rec_topic = subsocket.recv_string()\n",
    "        rec_frame = subsocket.recv_pyobj()\n",
    "        cv2.putText(rec_frame, f'Received frame number {i}, {rec_topic}, {rec_frame.shape}',\n",
    "        (10, 30), cv2.FONT_HERSHEY_SIMPLEX, 0.6, (0, 255, 0), 2)\n",
    "\n",
    "        cv2.imshow(\"Cam1\", rec_frame)\n",
    "        \n",
    "        if cv2.waitKey(100) == 27: \n",
    "            break  # esc to quit\n",
    "    \n",
    "    except KeyboardInterrupt:\n",
    "        print(\"W: interrupt received, stopping…\")\n",
    "        break\n",
    "        \n",
    "fvs.stop()  \n",
    "del fvs\n",
    "\n",
    "subsocket.close() \n",
    "pubsocket.close()  # clean up\n",
    "cv2.destroyAllWindows()\n",
    "\n",
    "print('Finished')"
   ]
  },
  {
   "cell_type": "markdown",
   "metadata": {},
   "source": [
    "## Send and receive socket wih Webcam"
   ]
  },
  {
   "cell_type": "code",
   "execution_count": null,
   "metadata": {},
   "outputs": [],
   "source": [
    "from time import sleep\n",
    "import zmq\n",
    "import cv2\n",
    "print('Starting1')\n",
    "context = zmq.Context()\n",
    "pubsocket = context.socket(zmq.PUB)\n",
    "pubsocket.bind(\"tcp://*:5555\")\n",
    "\n",
    "subsocket = context.socket(zmq.SUB)\n",
    "subsocket.connect(\"tcp://localhost:5555\")\n",
    "subsocket.setsockopt(zmq.SUBSCRIBE, b'camera_frame')\n",
    "\n",
    "\n",
    "print('Starting2')\n",
    "cam = cv2.VideoCapture(0)\n",
    "sleep(0.5)\n",
    "\n",
    "topic = 'camera_frame'\n",
    "print('Starting3')\n",
    "i=0\n",
    "while True:\n",
    "    try:\n",
    "        i += 1\n",
    "        ret, snd_frame = cam.read()\n",
    "        pubsocket.send_string(topic, zmq.SNDMORE)\n",
    "        pubsocket.send_pyobj(snd_frame)\n",
    "\n",
    "        rec_topic = subsocket.recv_string()\n",
    "        rec_frame = subsocket.recv_pyobj()\n",
    "        cv2.putText(rec_frame, f'Received frame number {i}, {rec_topic}, {rec_frame.shape}',\n",
    "        (10, 30), cv2.FONT_HERSHEY_SIMPLEX, 0.6, (0, 255, 0), 2)\n",
    "\n",
    "        cv2.imshow(\"Cam1\", rec_frame)\n",
    "        \n",
    "        if cv2.waitKey(100) == 27: \n",
    "            break  # esc to quit\n",
    "    \n",
    "    except KeyboardInterrupt:\n",
    "        print(\"W: interrupt received, stopping…\")\n",
    "        break\n",
    "        \n",
    "        \n",
    "cam.release()\n",
    "subsocket.close() \n",
    "pubsocket.close()  # clean up\n",
    "cv2.destroyAllWindows()\n",
    "print('Finished')"
   ]
  },
  {
   "cell_type": "markdown",
   "metadata": {},
   "source": [
    "## Show FLIR camera"
   ]
  },
  {
   "cell_type": "code",
   "execution_count": null,
   "metadata": {},
   "outputs": [
    {
     "name": "stdout",
     "output_type": "stream",
     "text": [
      "Library version: 1.27.0.48\n",
      "Number of cameras detected: 2\n",
      "Camera acquisition mode set to continuous...\nCamera 0 started acquiring images...\n\nCamera acquisition mode set to continuous...\nCamera 1 started acquiring images...\n\n"
     ]
    }
   ],
   "source": [
    "def show_FLIRcam(mirror=False, width=1000, height=750):\n",
    "    fvs = USBVideoStream().start()\n",
    "    while True:\n",
    "        while not fvs.more():\n",
    "            pass\n",
    "        img = fvs.read()        \n",
    "        img = imutils.resize(img['image'], width=width, height=height)     \n",
    "        if mirror: \n",
    "            img = cv2.flip(img, 1)\n",
    "        cv2.imshow('FLIR cam', img)\n",
    "        if cv2.waitKey(1) == 27: \n",
    "            break  # esc to quit\n",
    "            \n",
    "    fvs.stop()  \n",
    "    del fvs\n",
    "    cv2.destroyAllWindows()\n",
    "\n",
    "show_FLIRcam(mirror=True)\n"
   ]
  },
  {
   "cell_type": "markdown",
   "metadata": {},
   "source": [
    "## Show OpenCV web camera"
   ]
  },
  {
   "cell_type": "code",
   "execution_count": null,
   "metadata": {},
   "outputs": [],
   "source": [
    "def show_webcam(mirror=False):\n",
    "    cam = cv2.VideoCapture(0)\n",
    "    while True:\n",
    "        ret_val, img = cam.read()\n",
    "        if mirror: \n",
    "            img = cv2.flip(img, 1)\n",
    "        cv2.imshow('my webcam', img)\n",
    "        if cv2.waitKey(1) == 27: \n",
    "            break  # esc to quit\n",
    "    cv2.destroyAllWindows()\n",
    "    cam.release()\n",
    "\n",
    "show_webcam(mirror=True)\n",
    "\n"
   ]
  }
 ],
 "metadata": {
  "kernelspec": {
   "display_name": "Python 3",
   "language": "python",
   "name": "python3"
  }
 },
 "nbformat": 4,
 "nbformat_minor": 0
}
