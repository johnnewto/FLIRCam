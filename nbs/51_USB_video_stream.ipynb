{
 "cells": [
  {
   "cell_type": "code",
   "execution_count": null,
   "metadata": {},
   "outputs": [],
   "source": [
    "# default_exp USB_video_stream\n",
    "%load_ext autoreload\n",
    "%autoreload 2"
   ]
  },
  {
   "cell_type": "markdown",
   "metadata": {},
   "source": [
    "# FLIR_video_stream\n",
    "> API details.\n",
    "- Technical notes https://www.flir.com/support/products/blackfly-s-usb3#Overview\n",
    "- http://softwareservices.ptgrey.com/Spinnaker/latest/index.html\n",
    "- https://www.flir.com/support-center/iis/machine-vision/knowledge-base/relationship-between-color-processing-and-number-of-bits-per-pixel/"
   ]
  },
  {
   "cell_type": "code",
   "execution_count": null,
   "metadata": {},
   "outputs": [],
   "source": [
    "#hide\n",
    "from nbdev.showdoc import *"
   ]
  },
  {
   "cell_type": "code",
   "execution_count": null,
   "metadata": {},
   "outputs": [],
   "source": [
    "#export\n",
    "from  FLIRCam.core import *  # hide from itself"
   ]
  },
  {
   "cell_type": "code",
   "execution_count": null,
   "metadata": {},
   "outputs": [],
   "source": [
    "#export\n",
    "import time\n",
    "import cv2\n",
    "import PySpin\n",
    "from threading import Thread\n",
    "import sys\n",
    "# import the Queue class from Python 3\n",
    "if sys.version_info >= (3, 0):\n",
    "    from queue import Queue\n",
    "# otherwise, import the Queue class for Python 2.7\n",
    "else:\n",
    "    from Queue import Queue"
   ]
  },
  {
   "cell_type": "code",
   "execution_count": null,
   "metadata": {},
   "outputs": [],
   "source": [
    "# def print_device_info(nodemap):\n",
    "#     \"\"\"\n",
    "#     This function prints the device information of the camera from the transport\n",
    "#     layer; please see NodeMapInfo example for more in-depth comments on printing\n",
    "#     device information from the nodemap.\n",
    "# \n",
    "#     - nodemap: Transport layer device nodemap.\n",
    "#     - nodemap: INodeMap\n",
    "#     - returns: True if successful, False otherwise.\n",
    "#     \"\"\"\n",
    "# \n",
    "#     print('*** DEVICE INFORMATION ***\\n')\n",
    "# \n",
    "#     try:\n",
    "#         result = True\n",
    "#         node_device_information = PySpin.CCategoryPtr(nodemap.GetNode('DeviceInformation'))\n",
    "# \n",
    "#         if PySpin.IsAvailable(node_device_information) and PySpin.IsReadable(node_device_information):\n",
    "#             features = node_device_information.GetFeatures()\n",
    "#             for feature in features:\n",
    "#                 node_feature = PySpin.CValuePtr(feature)\n",
    "#                 print('%s: %s' % (node_feature.GetName(),\n",
    "#                                   node_feature.ToString() if PySpin.IsReadable(node_feature) else 'Node not readable'))\n",
    "# \n",
    "#         else:\n",
    "#             print('Device control information not available.')\n",
    "# \n",
    "#     except PySpin.SpinnakerException as ex:\n",
    "#         print('Error: %s' % ex)\n",
    "#         return False\n",
    "# \n",
    "#     return result"
   ]
  },
  {
   "cell_type": "code",
   "execution_count": null,
   "metadata": {},
   "outputs": [],
   "source": [
    "# # Retrieve singleton reference to system object\n",
    "# system = PySpin.System.GetInstance()\n",
    "# \n",
    "# # Get current library version\n",
    "# version = system.GetLibraryVersion()\n",
    "# print('Library version: %d.%d.%d.%d' % (version.major, version.minor, version.type, version.build))\n",
    "# \n",
    "# # Retrieve list of cameras from the system\n",
    "# cam_list = system.GetCameras()\n",
    "# \n",
    "# num_cameras = cam_list.GetSize()\n",
    "# nodemap_tldevice = cam_list[0].GetTLDeviceNodeMap()\n",
    "# \n",
    "# print_device_info(nodemap_tldevice)\n",
    "# # Release system instance\n",
    "# system.ReleaseInstance()"
   ]
  },
  {
   "cell_type": "code",
   "execution_count": null,
   "metadata": {},
   "outputs": [],
   "source": [
    "#export\n",
    "class USBVideoStream:\n",
    "    \"\"\" Create threaded  USB3 video stream for 1 or more FLIR USB3 cameras, with max queue size\n",
    "     Pass optional transform code to alter the image before queueing\"\"\"\n",
    "    def __init__(self, transform=None, queue_size=10):\n",
    "        # initialize the file video stream along with the boolean\n",
    "        # used to indicate if the thread should be stopped or not\n",
    "        self.stopped = False\n",
    "        self.transform = transform\n",
    "\n",
    "        # initialize the queue used to store frames read from the video file\n",
    "        self.Q = Queue(maxsize=queue_size)\n",
    "        # intialize thread\n",
    "        self.thread = Thread(target=self.update, args=())\n",
    "        self.thread.daemon = True\n",
    "\n",
    "        self.system = PySpin.System.GetInstance()  # Retrieve singleton reference to system object\n",
    "        version = self.system.GetLibraryVersion()  # Get current library version\n",
    "        print('Library version: %d.%d.%d.%d' % (version.major, version.minor, version.type, version.build))\n",
    "\n",
    "        self.camlist = self.system.GetCameras()  # Retrieve list of cameras from the system\n",
    "\n",
    "        # num_cameras =\n",
    "        # for cam in cam_list: cam.DeInit()\n",
    "        # system.ReleaseInstance()\n",
    "\n",
    "        print(f'Number of cameras detected: {self.camlist.GetSize()}')\n",
    "\n",
    "    def __del__(self):\n",
    "        self.camlist.Clear()\n",
    "        self.system.ReleaseInstance()\n",
    "\n",
    "    def set_cam_mode_continuous(self, i, cam):\n",
    "        \"\"\"For all cameras set the acquisition mode set to continuous\"\"\"\n",
    "        node_acquisition_mode = PySpin.CEnumerationPtr(cam.GetNodeMap().GetNode('AcquisitionMode'))\n",
    "        if not PySpin.IsAvailable(node_acquisition_mode) or not PySpin.IsWritable(node_acquisition_mode):\n",
    "            print('Unable to set acquisition mode to continuous . Aborting... \\n')\n",
    "            return False\n",
    "\n",
    "        node_acquisition_mode_continuous = node_acquisition_mode.GetEntryByName('Continuous')\n",
    "        if not PySpin.IsAvailable(node_acquisition_mode_continuous) or not PySpin.IsReadable(\n",
    "                node_acquisition_mode_continuous):\n",
    "            print('Unable to set acquisition mode to continuous , Aborting... \\n')\n",
    "            return False\n",
    "\n",
    "        acquisition_mode_continuous = node_acquisition_mode_continuous.GetValue()\n",
    "        node_acquisition_mode.SetIntValue(acquisition_mode_continuous)\n",
    "        print('Camera acquisition mode set to continuous...')\n",
    "        return True\n",
    "\n",
    "    def start(self):\n",
    "        \"\"\"\n",
    "        For all cameras,  Initialise and set camera mode to continuous.\n",
    "        and begin acquisisition\n",
    "        \"\"\"\n",
    "        for i, cam in enumerate(self.camlist): cam.Init()  # intialize cameras\n",
    "\n",
    "        for i, cam in enumerate(self.camlist):\n",
    "\n",
    "            # Set acquisition mode to continuous\n",
    "            self.set_cam_mode_continuous(i, cam)\n",
    "\n",
    "            # Begin acquiring images\n",
    "            cam.BeginAcquisition()\n",
    "\n",
    "            print('Camera %d started acquiring images...' % i)\n",
    "            print()\n",
    "        # start a thread to read frames from the file video stream\n",
    "        self.thread.start()\n",
    "        return self\n",
    "\n",
    "    def update(self):\n",
    "        # keep looping infinitely\n",
    "        while True:\n",
    "            # if the thread indicator variable is set, stop the\n",
    "            # thread\n",
    "            if self.stopped:\n",
    "                break\n",
    "\n",
    "            # otherwise, ensure the queue has room in it\n",
    "            if not self.Q.full():\n",
    "                for i, cam in enumerate(self.camlist):\n",
    "                    try:\n",
    "                        frame = cam.GetNextImage()\n",
    "                        image_converted = frame.Convert(PySpin.PixelFormat_BGR8)\n",
    "                        # image_converted = frame.Convert(PySpin.PixelFormat_Mono8, PySpin.HQ_LINEAR)\n",
    "                        image_converted = image_converted.GetNDArray()\n",
    "                        # print(f'Image retrieved from cam {i}, shape = {image_converted.shape}')\n",
    "                        frame.Release()  # Release image producer/consumer queues since this one was generally\n",
    "                                         # idle grabbing frames.\n",
    "                        if self.transform:\n",
    "                            image_converted = self.transform(image_converted)\n",
    "\n",
    "                        # add the frame to the queue\n",
    "                        self.Q.put({'cam':i, 'image':image_converted})\n",
    "\n",
    "                    except PySpin.SpinnakerException as ex:\n",
    "                        print('Error: %s' % ex)\n",
    "                        self.stopped = True\n",
    "\n",
    "            else:\n",
    "                time.sleep(0.1)  # Rest for 100ms, we have a full queue\n",
    "\n",
    "        # self.stream.release()\n",
    "        for cam in self.camlist:\n",
    "            # End acquisition\n",
    "            cam.EndAcquisition()\n",
    "            cam.DeInit()\n",
    "\n",
    "    def read(self):\n",
    "        \"\"\"Return next frame in the queue\"\"\"\n",
    "        return self.Q.get()\n",
    "\n",
    "    def read_wait(self):\n",
    "        \"\"\"Wait for and return next frame in the queue\"\"\"\n",
    "        try:\n",
    "            return self.Q.get(block=True,timeout=1)\n",
    "        except:\n",
    "            return None\n",
    "\n",
    "    # Insufficient to have consumer use while(more()) which does\n",
    "    # not take into account if the producer has reached end of\n",
    "    # file stream.\n",
    "    def running(self):\n",
    "        \"\"\" Test if thread id running\"\"\"\n",
    "        return self.more() or not self.stopped\n",
    "\n",
    "    def more(self):\n",
    "        \"\"\"Return True if there are still frames in the queue.\n",
    "        If stream is not stopped, try to wait a moment\"\"\"\n",
    "        tries = 0\n",
    "        while self.Q.qsize() == 0 and not self.stopped and tries < 5:\n",
    "            time.sleep(0.1)\n",
    "            tries += 1\n",
    "\n",
    "        return self.Q.qsize() > 1\n",
    "\n",
    "    def queue_size(self):\n",
    "        \"\"\"Return the queue size, ie number of frames\"\"\"\n",
    "        return self.Q.qsize()\n",
    "\n",
    "    def stop(self):\n",
    "        \"\"\"indicate that the thread should be stopped\"\"\"\n",
    "        self.stopped = True\n",
    "        # wait until stream resources are released (producer thread might be still grabbing frame)\n",
    "        self.thread.join()"
   ]
  },
  {
   "cell_type": "code",
   "execution_count": null,
   "metadata": {},
   "outputs": [
    {
     "data": {
      "text/markdown": [
       "<h4 id=\"USBVideoStream.set_cam_mode_continuous\" class=\"doc_header\"><code>USBVideoStream.set_cam_mode_continuous</code><a href=\"__main__.py#L33\" class=\"source_link\" style=\"float:right\">[source]</a></h4>\n",
       "\n",
       "> <code>USBVideoStream.set_cam_mode_continuous</code>(**`i`**, **`cam`**)\n",
       "\n",
       "For all cameras set the acquisition mode set to continuous"
      ],
      "text/plain": [
       "<IPython.core.display.Markdown object>"
      ]
     },
     "metadata": {},
     "output_type": "display_data"
    },
    {
     "data": {
      "text/markdown": [
       "<h4 id=\"USBVideoStream.start\" class=\"doc_header\"><code>USBVideoStream.start</code><a href=\"__main__.py#L51\" class=\"source_link\" style=\"float:right\">[source]</a></h4>\n",
       "\n",
       "> <code>USBVideoStream.start</code>()\n",
       "\n",
       "For all cameras,  Initialise and set camera mode to continuous.\n",
       "and begin acquisisition"
      ],
      "text/plain": [
       "<IPython.core.display.Markdown object>"
      ]
     },
     "metadata": {},
     "output_type": "display_data"
    },
    {
     "data": {
      "text/markdown": [
       "<h4 id=\"USBVideoStream.more\" class=\"doc_header\"><code>USBVideoStream.more</code><a href=\"__main__.py#L128\" class=\"source_link\" style=\"float:right\">[source]</a></h4>\n",
       "\n",
       "> <code>USBVideoStream.more</code>()\n",
       "\n",
       "Return True if there are still frames in the queue. \n",
       "If stream is not stopped, try to wait a moment"
      ],
      "text/plain": [
       "<IPython.core.display.Markdown object>"
      ]
     },
     "metadata": {},
     "output_type": "display_data"
    },
    {
     "data": {
      "text/markdown": [
       "<h4 id=\"USBVideoStream.read\" class=\"doc_header\"><code>USBVideoStream.read</code><a href=\"__main__.py#L110\" class=\"source_link\" style=\"float:right\">[source]</a></h4>\n",
       "\n",
       "> <code>USBVideoStream.read</code>()\n",
       "\n",
       "Return next frame in the queue"
      ],
      "text/plain": [
       "<IPython.core.display.Markdown object>"
      ]
     },
     "metadata": {},
     "output_type": "display_data"
    },
    {
     "data": {
      "text/markdown": [
       "<h4 id=\"USBVideoStream.read_wait\" class=\"doc_header\"><code>USBVideoStream.read_wait</code><a href=\"__main__.py#L114\" class=\"source_link\" style=\"float:right\">[source]</a></h4>\n",
       "\n",
       "> <code>USBVideoStream.read_wait</code>()\n",
       "\n",
       "Wait for and return next frame in the queue"
      ],
      "text/plain": [
       "<IPython.core.display.Markdown object>"
      ]
     },
     "metadata": {},
     "output_type": "display_data"
    },
    {
     "data": {
      "text/markdown": [
       "<h4 id=\"USBVideoStream.queue_size\" class=\"doc_header\"><code>USBVideoStream.queue_size</code><a href=\"__main__.py#L138\" class=\"source_link\" style=\"float:right\">[source]</a></h4>\n",
       "\n",
       "> <code>USBVideoStream.queue_size</code>()\n",
       "\n",
       "Return the queue size, ie number of frames"
      ],
      "text/plain": [
       "<IPython.core.display.Markdown object>"
      ]
     },
     "metadata": {},
     "output_type": "display_data"
    },
    {
     "data": {
      "text/markdown": [
       "<h4 id=\"USBVideoStream.stop\" class=\"doc_header\"><code>USBVideoStream.stop</code><a href=\"__main__.py#L142\" class=\"source_link\" style=\"float:right\">[source]</a></h4>\n",
       "\n",
       "> <code>USBVideoStream.stop</code>()\n",
       "\n",
       "indicate that the thread should be stopped"
      ],
      "text/plain": [
       "<IPython.core.display.Markdown object>"
      ]
     },
     "metadata": {},
     "output_type": "display_data"
    }
   ],
   "source": [
    "show_doc(USBVideoStream.set_cam_mode_continuous)\n",
    "show_doc(USBVideoStream.start)\n",
    "show_doc(USBVideoStream.more)\n",
    "show_doc(USBVideoStream.read)\n",
    "show_doc(USBVideoStream.read_wait)\n",
    "show_doc(USBVideoStream.queue_size)\n",
    "show_doc(USBVideoStream.stop)"
   ]
  },
  {
   "cell_type": "markdown",
   "metadata": {},
   "source": [
    "## Show FLIR camera"
   ]
  },
  {
   "cell_type": "code",
   "execution_count": null,
   "metadata": {},
   "outputs": [
    {
     "name": "stdout",
     "output_type": "stream",
     "text": [
      "Library version: 1.27.0.48\n",
      "Number of cameras detected: 1\n",
      "Camera acquisition mode set to continuous...\n",
      "Camera 0 started acquiring images...\n",
      "\n",
      "[INFO] approx. FPS: 3.38\n"
     ]
    }
   ],
   "source": [
    "from imutils.video import FPS\n",
    "import imutils\n",
    "def show_FLIRcam(width=1000, height=750):\n",
    "    fvs = USBVideoStream().start()\n",
    "    fps = FPS().start()\n",
    "    for i in range(50):\n",
    "        img = fvs.read_wait() \n",
    "        if img is not None:\n",
    "            img = imutils.resize(img['image'], width=width, height=height)     \n",
    "            cv2.imshow('FLIR cam', img)\n",
    "            if cv2.waitKey(10) == 27: \n",
    "                break  # esc to quit\n",
    "            fps.update()     \n",
    "            \n",
    "    fps.stop()\n",
    "    fvs.stop()  \n",
    "    del fvs\n",
    "\n",
    "    print(\"[INFO] approx. FPS: {:.2f}\".format(fps.fps()))\n",
    "    \n",
    "    cv2.destroyAllWindows()\n",
    "\n",
    "show_FLIRcam()"
   ]
  },
  {
   "cell_type": "markdown",
   "metadata": {},
   "source": [
    "## Test Example Usage, recoding a movie"
   ]
  },
  {
   "cell_type": "code",
   "execution_count": null,
   "metadata": {},
   "outputs": [],
   "source": [
    "from moviepy.video.io.ffmpeg_writer import FFMPEG_VideoWriter\n",
    "from imutils.video import FPS\n",
    "import imutils\n",
    "import time\n",
    "import cv2\n",
    "\n",
    "def record_FLIRcam(mirror=False, width=1000, height=750):\n",
    "    fvs = USBVideoStream().start()\n",
    "    fps = FPS().start()\n",
    "    with FFMPEG_VideoWriter('out.mp4', (width,height), 5.0) as video:\n",
    "        for i in range(50):\n",
    "            frame = fvs.read_wait() \n",
    "            if frame is not None:    \n",
    "                img = imutils.resize(frame['image'], width=width, height=height)   \n",
    "                cv2.putText(img, f\"Queue Size: {fvs.Q.qsize()}, Camera: {frame['cam']}, Shape: {img.shape}\",\n",
    "                    (10, 30), cv2.FONT_HERSHEY_SIMPLEX, 0.6, (0, 255, 0), 2)\n",
    "                print(':', end='', flush=True)  \n",
    "                video.write_frame(img)\n",
    "                cv2.imshow('FLIR cam', img)\n",
    "                if cv2.waitKey(10) == 27: \n",
    "                    break  # esc to quit\n",
    "                fps.update()\n",
    "    fps.stop()\n",
    "    fvs.stop()\n",
    "    print()\n",
    "    print(\"[INFO] elasped time: {:.2f}\".format(fps.elapsed()))\n",
    "    print(\"[INFO] approx. FPS: {:.2f}\".format(fps.fps()))\n",
    "    # Not FPS will be slower due to video writing \n",
    "    del fvs\n",
    "    cv2.destroyAllWindows()\n",
    "\n",
    "record_FLIRcam(mirror=True)\n"
   ]
  },
  {
   "cell_type": "markdown",
   "metadata": {},
   "source": [
    "## Show result video"
   ]
  },
  {
   "cell_type": "code",
   "execution_count": null,
   "metadata": {},
   "outputs": [],
   "source": [
    "import moviepy.editor as mvp\n",
    "mvp.ipython_display('out.mp4', loop=True)"
   ]
  }
 ],
 "metadata": {
  "kernelspec": {
   "display_name": "Python 3",
   "language": "python",
   "name": "python3"
  }
 },
 "nbformat": 4,
 "nbformat_minor": 2
}
